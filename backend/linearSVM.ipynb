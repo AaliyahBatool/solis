{
 "cells": [
  {
   "cell_type": "code",
   "execution_count": 1,
   "metadata": {
    "_cell_guid": "b1076dfc-b9ad-4769-8c92-a6c4dae69d19",
    "_uuid": "8f2839f25d086af736a60e9eeb907d3b93b6e0e5"
   },
   "outputs": [],
   "source": [
    "import pandas as pd\n",
    "import numpy as np\n",
    "from sklearn.model_selection import train_test_split\n",
    "from sklearn.linear_model import LogisticRegression\n",
    "from sklearn.feature_extraction.text import TfidfVectorizer\n",
    "from sklearn.metrics import confusion_matrix, accuracy_score, precision_score, recall_score, classification_report\n",
    "import re, string"
   ]
  },
  {
   "cell_type": "code",
   "execution_count": 44,
   "metadata": {},
   "outputs": [],
   "source": [
    "# Load data\n",
    "file_path = \"fake reviews dataset.csv\"\n",
    "data = pd.read_csv(file_path)\n",
    "\n",
    "# Filter data\n",
    "df = data\n",
    "\n",
    "# Encode labels\n",
    "encoded_label_dict = {\"CG\": 0, \"OR\": 1}\n",
    "df[\"target\"] = df[\"label\"].apply(lambda x: encoded_label_dict.get(x, -1))\n",
    "\n",
    "# Train-test split\n",
    "train, test = train_test_split(df, test_size=0.2, shuffle=True, random_state=2021)\n",
    "\n",
    "# Fill missing text\n",
    "COMMENT = 'text_'\n",
    "train[COMMENT] = train[COMMENT].fillna(\"unknown\")\n",
    "test[COMMENT] = test[COMMENT].fillna(\"unknown\")\n"
   ]
  },
  {
   "cell_type": "code",
   "execution_count": 32,
   "metadata": {},
   "outputs": [
    {
     "data": {
      "text/html": [
       "<div>\n",
       "<style scoped>\n",
       "    .dataframe tbody tr th:only-of-type {\n",
       "        vertical-align: middle;\n",
       "    }\n",
       "\n",
       "    .dataframe tbody tr th {\n",
       "        vertical-align: top;\n",
       "    }\n",
       "\n",
       "    .dataframe thead th {\n",
       "        text-align: right;\n",
       "    }\n",
       "</style>\n",
       "<table border=\"1\" class=\"dataframe\">\n",
       "  <thead>\n",
       "    <tr style=\"text-align: right;\">\n",
       "      <th></th>\n",
       "      <th>category</th>\n",
       "      <th>rating</th>\n",
       "      <th>label</th>\n",
       "      <th>text_</th>\n",
       "      <th>target</th>\n",
       "    </tr>\n",
       "  </thead>\n",
       "  <tbody>\n",
       "    <tr>\n",
       "      <th>0</th>\n",
       "      <td>Home_and_Kitchen_5</td>\n",
       "      <td>5.0</td>\n",
       "      <td>CG</td>\n",
       "      <td>Love this!  Well made, sturdy, and very comfor...</td>\n",
       "      <td>0</td>\n",
       "    </tr>\n",
       "    <tr>\n",
       "      <th>1</th>\n",
       "      <td>Home_and_Kitchen_5</td>\n",
       "      <td>5.0</td>\n",
       "      <td>CG</td>\n",
       "      <td>love it, a great upgrade from the original.  I...</td>\n",
       "      <td>0</td>\n",
       "    </tr>\n",
       "    <tr>\n",
       "      <th>2</th>\n",
       "      <td>Home_and_Kitchen_5</td>\n",
       "      <td>5.0</td>\n",
       "      <td>CG</td>\n",
       "      <td>This pillow saved my back. I love the look and...</td>\n",
       "      <td>0</td>\n",
       "    </tr>\n",
       "    <tr>\n",
       "      <th>3</th>\n",
       "      <td>Home_and_Kitchen_5</td>\n",
       "      <td>1.0</td>\n",
       "      <td>CG</td>\n",
       "      <td>Missing information on how to use it, but it i...</td>\n",
       "      <td>0</td>\n",
       "    </tr>\n",
       "    <tr>\n",
       "      <th>4</th>\n",
       "      <td>Home_and_Kitchen_5</td>\n",
       "      <td>5.0</td>\n",
       "      <td>CG</td>\n",
       "      <td>Very nice set. Good quality. We have had the s...</td>\n",
       "      <td>0</td>\n",
       "    </tr>\n",
       "  </tbody>\n",
       "</table>\n",
       "</div>"
      ],
      "text/plain": [
       "             category  rating label  \\\n",
       "0  Home_and_Kitchen_5     5.0    CG   \n",
       "1  Home_and_Kitchen_5     5.0    CG   \n",
       "2  Home_and_Kitchen_5     5.0    CG   \n",
       "3  Home_and_Kitchen_5     1.0    CG   \n",
       "4  Home_and_Kitchen_5     5.0    CG   \n",
       "\n",
       "                                               text_  target  \n",
       "0  Love this!  Well made, sturdy, and very comfor...       0  \n",
       "1  love it, a great upgrade from the original.  I...       0  \n",
       "2  This pillow saved my back. I love the look and...       0  \n",
       "3  Missing information on how to use it, but it i...       0  \n",
       "4  Very nice set. Good quality. We have had the s...       0  "
      ]
     },
     "execution_count": 32,
     "metadata": {},
     "output_type": "execute_result"
    }
   ],
   "source": [
    "df.head()"
   ]
  },
  {
   "cell_type": "code",
   "execution_count": 34,
   "metadata": {},
   "outputs": [
    {
     "name": "stderr",
     "output_type": "stream",
     "text": [
      "C:\\Users\\zayan\\anaconda3\\Lib\\site-packages\\sklearn\\feature_extraction\\text.py:525: UserWarning: The parameter 'token_pattern' will not be used since 'tokenizer' is not None'\n",
      "  warnings.warn(\n"
     ]
    }
   ],
   "source": [
    "# Tokenizer function\n",
    "re_tok = re.compile(f'([{string.punctuation}“”¨«»®´·º½¾¿¡§£₤‘’])')\n",
    "def tokenize(s): return re_tok.sub(r' \\1 ', s).split()\n",
    "\n",
    "# TF-IDF Vectorization\n",
    "vec = TfidfVectorizer(ngram_range=(1, 2), tokenizer=tokenize,\n",
    "                      min_df=3, max_df=0.9, strip_accents='unicode', use_idf=True,\n",
    "                      smooth_idf=True, sublinear_tf=True)\n",
    "\n",
    "trn_term_doc = vec.fit_transform(train[COMMENT])\n",
    "test_term_doc = vec.transform(test[COMMENT])\n",
    "\n",
    "# Logistic Regression with custom preprocessing\n",
    "def pr(y_i, y):\n",
    "    p = x[y == y_i].sum(0)\n",
    "    return (p + 1) / ((y == y_i).sum() + 1)\n",
    "\n",
    "x = trn_term_doc\n",
    "test_x = test_term_doc\n",
    "\n",
    "def get_mdl(y):\n",
    "    y = y.values\n",
    "    r = np.log(pr(1, y) / pr(0, y))\n",
    "    m = LogisticRegression(C=4, max_iter=1000)\n",
    "    x_nb = x.multiply(r)\n",
    "    return m.fit(x_nb, y), r\n",
    "\n",
    "m, r = get_mdl(train[\"target\"])\n"
   ]
  },
  {
   "cell_type": "code",
   "execution_count": 35,
   "metadata": {},
   "outputs": [],
   "source": [
    "# Predictions\n",
    "preds_probas = m.predict_proba(test_x.multiply(r))[:, 1]\n",
    "preds = [1 if prob >= 0.5 else 0 for prob in preds_probas]"
   ]
  },
  {
   "cell_type": "code",
   "execution_count": 36,
   "metadata": {},
   "outputs": [
    {
     "name": "stdout",
     "output_type": "stream",
     "text": [
      "Confusion Matrix:\n",
      " [[3736  274]\n",
      " [ 168 3909]]\n",
      "\n",
      "Classification Report:\n",
      "               precision    recall  f1-score   support\n",
      "\n",
      "          CG       0.96      0.93      0.94      4010\n",
      "          OR       0.93      0.96      0.95      4077\n",
      "\n",
      "    accuracy                           0.95      8087\n",
      "   macro avg       0.95      0.95      0.95      8087\n",
      "weighted avg       0.95      0.95      0.95      8087\n",
      "\n",
      "Accuracy: 94.53%\n",
      "Precision: 93.45%\n",
      "Recall: 95.88%\n"
     ]
    }
   ],
   "source": [
    "# Evaluation\n",
    "y_true = test.target.values\n",
    "y_pred = preds\n",
    "print(\"Confusion Matrix:\\n\", confusion_matrix(y_true, y_pred))\n",
    "print(\"\\nClassification Report:\\n\", classification_report(y_true, y_pred, target_names=[\"CG\", \"OR\"]))\n",
    "print(f\"Accuracy: {accuracy_score(y_true, y_pred) * 100:.2f}%\")\n",
    "print(f\"Precision: {precision_score(y_true, y_pred) * 100:.2f}%\")\n",
    "print(f\"Recall: {recall_score(y_true, y_pred) * 100:.2f}%\")"
   ]
  },
  {
   "cell_type": "code",
   "execution_count": 46,
   "metadata": {},
   "outputs": [
    {
     "name": "stdout",
     "output_type": "stream",
     "text": [
      "\n",
      "Unique Prediction Labels: ['OR' 'CG']\n",
      "\n",
      "Prediction Label Counts:\n",
      " Prediction_Label\n",
      "OR    333\n",
      "CG     25\n",
      "Name: count, dtype: int64\n",
      "\n",
      "Examples of OR (Class: OR):\n",
      "                                               Review Prediction_Label\n",
      "0   I know how important it is for anyone buying d...               OR\n",
      "1                                  Really yaar 2 good               OR\n",
      "2   I absolutely adore this crop shirt! I paired i...               OR\n",
      "3   Absolutely love this shirt! It fits perfectly ...               OR\n",
      "4   It's a beautiful n a soothing  cotton short/cr...               OR\n",
      "5                            Awesome quality must try               OR\n",
      "6   I bought a size larger (XL) for me since I wan...               OR\n",
      "7   It’s pure cotton top and fabric is very nice a...               OR\n",
      "8   The top looks so amazing and professional. It ...               OR\n",
      "9   This top is amazing, it's cotton fabric and th...               OR\n",
      "10  Beautiful shirt top!!!! Quality is top notch!!...               OR\n",
      "11  Product is too good. Fabric and fitting are aw...               OR\n",
      "12            Looks too good.. perfect fit and classy               OR\n",
      "13                            Worth of every penny ♥️               OR\n",
      "14  Just right , I'm loving it so much , The fabri...               OR\n",
      "15  I styled it on my mehendi day as short shrug. ...               OR\n",
      "16  Product Quality is good and very comfortable.\\...               OR\n",
      "17  The quality and piece came as quite a shocker ...               OR\n",
      "18     It’s pure cotton and very beautiful comfy top.               OR\n",
      "19  I like this kind of top, because it suits me.....               OR\n",
      "\n",
      "Examples of CG (Class: CG):\n",
      "                                                Review Prediction_Label\n",
      "23   It was looking good but was a little tight on ...               CG\n",
      "28   In love with this shirt. Material is amazing. ...               CG\n",
      "40   A very good ethnic shirt. Very comfortable. Or...               CG\n",
      "51   Good product, and print\\nNot an excellent mate...               CG\n",
      "54   It's a little rough texture but still comforta...               CG\n",
      "55   The shirt is a unique piece and the way too co...               CG\n",
      "78   Color is a bit dull but comfortable and excell...               CG\n",
      "79   Great product, love the fitting and feel of th...               CG\n",
      "89   Very comfortable and quality is too good, best...               CG\n",
      "104    The fit is nice and the quality is satisfactory               CG\n",
      "159                        Very nice product.i love it               CG\n",
      "167                                Very good product 👍               CG\n",
      "185                           The top was just awesome               CG\n",
      "202                                 Worth the purchase               CG\n",
      "205                                     It’s very good               CG\n",
      "209                                The fit is so great               CG\n",
      "212                                     Fits very good               CG\n",
      "215                                      Very good top               CG\n",
      "222                                    It is very good               CG\n",
      "234                                      Good quality.               CG\n"
     ]
    }
   ],
   "source": [
    "# Load the new dataset for prediction\n",
    "new_file_path = \"myntra_reviews.csv\"\n",
    "new_data = pd.read_csv(new_file_path)\n",
    "\n",
    "# Preprocess the new dataset\n",
    "# Fill missing values in the 'Review' column\n",
    "new_data['Review'] = new_data['Review'].fillna(\"unknown\")\n",
    "\n",
    "# Transform the 'Review' column using the trained TF-IDF vectorizer\n",
    "new_reviews_tfidf = vec.transform(new_data['Review'])\n",
    "\n",
    "# Make predictions using the trained model\n",
    "new_preds_probas = m.predict_proba(new_reviews_tfidf.multiply(r))[:, 1]\n",
    "new_preds = [1 if prob >= 0.5 else 0 for prob in new_preds_probas]\n",
    "\n",
    "# Add predictions as a new column to the DataFrame\n",
    "new_data['Prediction'] = new_preds\n",
    "new_data['Prediction_Label'] = new_data['Prediction'].map({0: 'CG', 1: 'OR'})\n",
    "\n",
    "# Display unique prediction values\n",
    "unique_predictions = new_data['Prediction_Label'].unique()\n",
    "print(\"\\nUnique Prediction Labels:\", unique_predictions)\n",
    "\n",
    "# Count occurrences of each prediction label\n",
    "prediction_counts = new_data['Prediction_Label'].value_counts()\n",
    "print(\"\\nPrediction Label Counts:\\n\", prediction_counts)\n",
    "\n",
    "# Display examples of each class\n",
    "for label in unique_predictions:\n",
    "    print(f\"\\nExamples of {label} (Class: {label}):\")\n",
    "    examples = new_data[new_data['Prediction_Label'] == label][['Review', 'Prediction_Label']].head(20)\n",
    "    print(examples)"
   ]
  },
  {
   "cell_type": "code",
   "execution_count": null,
   "metadata": {},
   "outputs": [],
   "source": []
  }
 ],
 "metadata": {
  "kaggle": {
   "accelerator": "nvidiaTeslaT4",
   "dataSources": [
    {
     "datasetId": 3749709,
     "sourceId": 6488923,
     "sourceType": "datasetVersion"
    },
    {
     "datasetId": 5438851,
     "sourceId": 9024678,
     "sourceType": "datasetVersion"
    },
    {
     "datasetId": 6616635,
     "sourceId": 10680710,
     "sourceType": "datasetVersion"
    }
   ],
   "dockerImageVersionId": 30840,
   "isGpuEnabled": true,
   "isInternetEnabled": true,
   "language": "python",
   "sourceType": "notebook"
  },
  "kernelspec": {
   "display_name": "Python 3 (ipykernel)",
   "language": "python",
   "name": "python3"
  },
  "language_info": {
   "codemirror_mode": {
    "name": "ipython",
    "version": 3
   },
   "file_extension": ".py",
   "mimetype": "text/x-python",
   "name": "python",
   "nbconvert_exporter": "python",
   "pygments_lexer": "ipython3",
   "version": "3.12.4"
  }
 },
 "nbformat": 4,
 "nbformat_minor": 4
}
